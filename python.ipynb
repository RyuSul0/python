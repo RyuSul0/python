{
 "cells": [
  {
   "cell_type": "code",
   "execution_count": 45,
   "id": "7092aa88",
   "metadata": {},
   "outputs": [],
   "source": [
    "strVal = 'data science'\n",
    "nVal = 12345\n",
    "fVal = 1.2\n",
    "lVal = ['data', 'science']\n",
    "dVal = {'lecture' : 'data science'}\n",
    "bVal = True"
   ]
  },
  {
   "cell_type": "code",
   "execution_count": 46,
   "id": "6ae5b1ea",
   "metadata": {},
   "outputs": [
    {
     "data": {
      "text/plain": [
       "'\\n주석\\n'"
      ]
     },
     "execution_count": 46,
     "metadata": {},
     "output_type": "execute_result"
    }
   ],
   "source": [
    "# 주석\n",
    "'''\n",
    "주석\n",
    "'''"
   ]
  },
  {
   "cell_type": "code",
   "execution_count": 47,
   "id": "7667af5f",
   "metadata": {},
   "outputs": [
    {
     "data": {
      "text/plain": [
       "True"
      ]
     },
     "execution_count": 47,
     "metadata": {},
     "output_type": "execute_result"
    }
   ],
   "source": [
    "strVal\n",
    "nVal\n",
    "fVal\n",
    "lVal\n",
    "dVal\n",
    "bVal"
   ]
  },
  {
   "cell_type": "code",
   "execution_count": 48,
   "id": "886bee17",
   "metadata": {},
   "outputs": [
    {
     "name": "stdout",
     "output_type": "stream",
     "text": [
      "strVal :  data science\n",
      "nVal :  12345\n",
      "fVal :  1.2\n",
      "lVal :  ['data', 'science']\n",
      "dVal :  {'lecture': 'data science'}\n",
      "bVal :  True\n"
     ]
    }
   ],
   "source": [
    "print('strVal : ', strVal)\n",
    "print('nVal : ', nVal)\n",
    "print('fVal : ', fVal)\n",
    "print('lVal : ', lVal)\n",
    "print('dVal : ', dVal)\n",
    "print('bVal : ', bVal)"
   ]
  },
  {
   "cell_type": "code",
   "execution_count": 49,
   "id": "d3535049",
   "metadata": {},
   "outputs": [
    {
     "name": "stdout",
     "output_type": "stream",
     "text": [
      "strVal :  <class 'str'>\n",
      "nVal :  <class 'int'>\n",
      "fVal :  <class 'float'>\n",
      "lVal :  <class 'list'>\n",
      "dVal :  <class 'dict'>\n",
      "bVal :  <class 'bool'>\n"
     ]
    }
   ],
   "source": [
    "print('strVal : ', type(strVal))\n",
    "print('nVal : ', type(nVal))\n",
    "print('fVal : ', type(fVal))\n",
    "print('lVal : ', type(lVal))\n",
    "print('dVal : ', type(dVal))\n",
    "print('bVal : ', type(bVal))"
   ]
  },
  {
   "cell_type": "code",
   "execution_count": 50,
   "id": "df4d72dd",
   "metadata": {},
   "outputs": [],
   "source": [
    "nVal = 16\n",
    "fVal = 3.14"
   ]
  },
  {
   "cell_type": "code",
   "execution_count": 51,
   "id": "05a572d6",
   "metadata": {},
   "outputs": [
    {
     "name": "stdout",
     "output_type": "stream",
     "text": [
      "10진수 표현 :  16\n",
      "2진수 표현 :  0b10000\n",
      "8진수 표현 :  0o20\n",
      "16진수 표현 :  0x10\n"
     ]
    }
   ],
   "source": [
    "print('10진수 표현 : ', nVal)\n",
    "print('2진수 표현 : ', bin(nVal))\n",
    "print('8진수 표현 : ', oct(nVal))\n",
    "print('16진수 표현 : ', hex(nVal))"
   ]
  },
  {
   "cell_type": "code",
   "execution_count": 52,
   "id": "2f8324b2",
   "metadata": {},
   "outputs": [],
   "source": [
    "btVal = True\n",
    "bfVal = False"
   ]
  },
  {
   "cell_type": "code",
   "execution_count": 53,
   "id": "14dda4ab",
   "metadata": {},
   "outputs": [
    {
     "ename": "NameError",
     "evalue": "name 'true' is not defined",
     "output_type": "error",
     "traceback": [
      "\u001b[1;31m---------------------------------------------------------------------------\u001b[0m",
      "\u001b[1;31mNameError\u001b[0m                                 Traceback (most recent call last)",
      "\u001b[1;32m<ipython-input-53-a8457720f19e>\u001b[0m in \u001b[0;36m<module>\u001b[1;34m\u001b[0m\n\u001b[1;32m----> 1\u001b[1;33m \u001b[0mbtVal\u001b[0m \u001b[1;33m=\u001b[0m \u001b[0mtrue\u001b[0m\u001b[1;33m\u001b[0m\u001b[1;33m\u001b[0m\u001b[0m\n\u001b[0m\u001b[0;32m      2\u001b[0m \u001b[0mbfVal\u001b[0m \u001b[1;33m=\u001b[0m \u001b[0mfalse\u001b[0m\u001b[1;33m\u001b[0m\u001b[1;33m\u001b[0m\u001b[0m\n",
      "\u001b[1;31mNameError\u001b[0m: name 'true' is not defined"
     ]
    }
   ],
   "source": [
    "btVal = true\n",
    "bfVal = false"
   ]
  },
  {
   "cell_type": "code",
   "execution_count": 54,
   "id": "bc6fcc4b",
   "metadata": {},
   "outputs": [
    {
     "data": {
      "text/plain": [
       "False"
      ]
     },
     "execution_count": 54,
     "metadata": {},
     "output_type": "execute_result"
    }
   ],
   "source": [
    "10 == 11"
   ]
  },
  {
   "cell_type": "code",
   "execution_count": 55,
   "id": "08e81cc4",
   "metadata": {},
   "outputs": [
    {
     "data": {
      "text/plain": [
       "True"
      ]
     },
     "execution_count": 55,
     "metadata": {},
     "output_type": "execute_result"
    }
   ],
   "source": [
    "10 != 11"
   ]
  },
  {
   "cell_type": "code",
   "execution_count": 56,
   "id": "9da4967a",
   "metadata": {},
   "outputs": [
    {
     "data": {
      "text/plain": [
       "False"
      ]
     },
     "execution_count": 56,
     "metadata": {},
     "output_type": "execute_result"
    }
   ],
   "source": [
    "10 >= 11"
   ]
  },
  {
   "cell_type": "code",
   "execution_count": 57,
   "id": "1469b543",
   "metadata": {},
   "outputs": [
    {
     "data": {
      "text/plain": [
       "True"
      ]
     },
     "execution_count": 57,
     "metadata": {},
     "output_type": "execute_result"
    }
   ],
   "source": [
    "10 <= 11"
   ]
  },
  {
   "cell_type": "code",
   "execution_count": 58,
   "id": "abc8f914",
   "metadata": {},
   "outputs": [
    {
     "data": {
      "text/plain": [
       "False"
      ]
     },
     "execution_count": 58,
     "metadata": {},
     "output_type": "execute_result"
    }
   ],
   "source": [
    "10 > 11"
   ]
  },
  {
   "cell_type": "code",
   "execution_count": 59,
   "id": "95ca94a1",
   "metadata": {},
   "outputs": [
    {
     "data": {
      "text/plain": [
       "True"
      ]
     },
     "execution_count": 59,
     "metadata": {},
     "output_type": "execute_result"
    }
   ],
   "source": [
    "10 < 11"
   ]
  },
  {
   "cell_type": "code",
   "execution_count": 60,
   "id": "57ade737",
   "metadata": {},
   "outputs": [],
   "source": [
    "nBig = 100\n",
    "nSmall = 10"
   ]
  },
  {
   "cell_type": "code",
   "execution_count": 61,
   "id": "2aa0aef9",
   "metadata": {},
   "outputs": [
    {
     "name": "stdout",
     "output_type": "stream",
     "text": [
      "False\n",
      "True\n",
      "True\n",
      "False\n",
      "True\n",
      "False\n"
     ]
    }
   ],
   "source": [
    "print(nBig == nSmall)\n",
    "print(nBig != nSmall)\n",
    "print(nBig >= nSmall)\n",
    "print(nBig <= nSmall)\n",
    "print(nBig > nSmall)\n",
    "print(nBig < nSmall)"
   ]
  },
  {
   "cell_type": "code",
   "execution_count": 62,
   "id": "cc34ea57",
   "metadata": {},
   "outputs": [
    {
     "ename": "SyntaxError",
     "evalue": "invalid syntax (<ipython-input-62-3ccfad67ec5b>, line 1)",
     "output_type": "error",
     "traceback": [
      "\u001b[1;36m  File \u001b[1;32m\"<ipython-input-62-3ccfad67ec5b>\"\u001b[1;36m, line \u001b[1;32m1\u001b[0m\n\u001b[1;33m    print(nBig =< nSmall)\u001b[0m\n\u001b[1;37m                ^\u001b[0m\n\u001b[1;31mSyntaxError\u001b[0m\u001b[1;31m:\u001b[0m invalid syntax\n"
     ]
    }
   ],
   "source": [
    "print(nBig =< nSmall)"
   ]
  },
  {
   "cell_type": "code",
   "execution_count": 63,
   "id": "0c66ea28",
   "metadata": {},
   "outputs": [
    {
     "ename": "SyntaxError",
     "evalue": "invalid syntax (<ipython-input-63-704ebfcfd390>, line 1)",
     "output_type": "error",
     "traceback": [
      "\u001b[1;36m  File \u001b[1;32m\"<ipython-input-63-704ebfcfd390>\"\u001b[1;36m, line \u001b[1;32m1\u001b[0m\n\u001b[1;33m    print(nBig => nSmall)\u001b[0m\n\u001b[1;37m                ^\u001b[0m\n\u001b[1;31mSyntaxError\u001b[0m\u001b[1;31m:\u001b[0m invalid syntax\n"
     ]
    }
   ],
   "source": [
    "print(nBig => nSmall)"
   ]
  },
  {
   "cell_type": "code",
   "execution_count": 64,
   "id": "be5fdd45",
   "metadata": {},
   "outputs": [],
   "source": [
    "strData = 'data'\n",
    "strSci = \"Science\""
   ]
  },
  {
   "cell_type": "code",
   "execution_count": 65,
   "id": "cdf4feba",
   "metadata": {},
   "outputs": [],
   "source": [
    "strLecture = strData + strSci"
   ]
  },
  {
   "cell_type": "code",
   "execution_count": 66,
   "id": "19fafddd",
   "metadata": {},
   "outputs": [
    {
     "data": {
      "text/plain": [
       "'dataScience'"
      ]
     },
     "execution_count": 66,
     "metadata": {},
     "output_type": "execute_result"
    }
   ],
   "source": [
    "strLecture"
   ]
  },
  {
   "cell_type": "code",
   "execution_count": 67,
   "id": "55eb8fa6",
   "metadata": {},
   "outputs": [
    {
     "data": {
      "text/plain": [
       "'data Science'"
      ]
     },
     "execution_count": 67,
     "metadata": {},
     "output_type": "execute_result"
    }
   ],
   "source": [
    "strLecture = strData +\" \"+ strSci\n",
    "strLecture"
   ]
  },
  {
   "cell_type": "code",
   "execution_count": 68,
   "id": "1f6977c2",
   "metadata": {},
   "outputs": [
    {
     "data": {
      "text/plain": [
       "['data', 'Science']"
      ]
     },
     "execution_count": 68,
     "metadata": {},
     "output_type": "execute_result"
    }
   ],
   "source": [
    "strLecture.split()"
   ]
  },
  {
   "cell_type": "code",
   "execution_count": 69,
   "id": "f3c7e027",
   "metadata": {},
   "outputs": [],
   "source": [
    "lSeperate = strLecture.split()"
   ]
  },
  {
   "cell_type": "code",
   "execution_count": 70,
   "id": "13ed1aa8",
   "metadata": {},
   "outputs": [
    {
     "data": {
      "text/plain": [
       "list"
      ]
     },
     "execution_count": 70,
     "metadata": {},
     "output_type": "execute_result"
    }
   ],
   "source": [
    "type(lSeperate)"
   ]
  },
  {
   "cell_type": "code",
   "execution_count": 71,
   "id": "cfe577a7",
   "metadata": {},
   "outputs": [],
   "source": [
    "strHello = \"안녕하세요. 반갑습니다.\""
   ]
  },
  {
   "cell_type": "code",
   "execution_count": 72,
   "id": "2ee18618",
   "metadata": {},
   "outputs": [
    {
     "data": {
      "text/plain": [
       "7"
      ]
     },
     "execution_count": 72,
     "metadata": {},
     "output_type": "execute_result"
    }
   ],
   "source": [
    "strHello.find(\"반갑\")"
   ]
  },
  {
   "cell_type": "code",
   "execution_count": 73,
   "id": "ece46947",
   "metadata": {},
   "outputs": [
    {
     "data": {
      "text/plain": [
       "-1"
      ]
     },
     "execution_count": 73,
     "metadata": {},
     "output_type": "execute_result"
    }
   ],
   "source": [
    "strHello.find(\"hello\")"
   ]
  },
  {
   "cell_type": "code",
   "execution_count": 74,
   "id": "65c5388d",
   "metadata": {},
   "outputs": [
    {
     "data": {
      "text/plain": [
       "True"
      ]
     },
     "execution_count": 74,
     "metadata": {},
     "output_type": "execute_result"
    }
   ],
   "source": [
    "\"반갑\" in strHello"
   ]
  },
  {
   "cell_type": "code",
   "execution_count": 75,
   "id": "964f36c9",
   "metadata": {},
   "outputs": [
    {
     "data": {
      "text/plain": [
       "'안녕하세요? 반갑습니다?'"
      ]
     },
     "execution_count": 75,
     "metadata": {},
     "output_type": "execute_result"
    }
   ],
   "source": [
    "strHello.replace('.', '?')"
   ]
  },
  {
   "cell_type": "code",
   "execution_count": 76,
   "id": "faaba308",
   "metadata": {},
   "outputs": [
    {
     "data": {
      "text/plain": [
       "'안녕하셔유. 반갑습니다.'"
      ]
     },
     "execution_count": 76,
     "metadata": {},
     "output_type": "execute_result"
    }
   ],
   "source": [
    "strHello.replace('.', '?')\n",
    "strHello.replace(\"하세요\", \"하셔유\")"
   ]
  },
  {
   "cell_type": "code",
   "execution_count": 77,
   "id": "1e21a895",
   "metadata": {},
   "outputs": [
    {
     "data": {
      "text/plain": [
       "'안녕하세요. 반갑습니다.'"
      ]
     },
     "execution_count": 77,
     "metadata": {},
     "output_type": "execute_result"
    }
   ],
   "source": [
    "strHello"
   ]
  },
  {
   "cell_type": "code",
   "execution_count": 78,
   "id": "d9d969c1",
   "metadata": {},
   "outputs": [
    {
     "data": {
      "text/plain": [
       "'안녕하셔유? 반갑습니다?'"
      ]
     },
     "execution_count": 78,
     "metadata": {},
     "output_type": "execute_result"
    }
   ],
   "source": [
    "strNewHello = strHello.replace('.', '?')\n",
    "strNewHello = strNewHello.replace(\"하세요\", \"하셔유\")\n",
    "strNewHello"
   ]
  },
  {
   "cell_type": "code",
   "execution_count": 79,
   "id": "8f33f7be",
   "metadata": {},
   "outputs": [
    {
     "data": {
      "text/plain": [
       "'안녕하세요. '"
      ]
     },
     "execution_count": 79,
     "metadata": {},
     "output_type": "execute_result"
    }
   ],
   "source": [
    "strHello.strip('반갑습니다.')"
   ]
  },
  {
   "cell_type": "code",
   "execution_count": 80,
   "id": "e3cea99d",
   "metadata": {},
   "outputs": [
    {
     "data": {
      "text/plain": [
       "'안녕하세요. 반갑습니다.'"
      ]
     },
     "execution_count": 80,
     "metadata": {},
     "output_type": "execute_result"
    }
   ],
   "source": [
    "strHello"
   ]
  },
  {
   "cell_type": "code",
   "execution_count": 81,
   "id": "619cab04",
   "metadata": {},
   "outputs": [
    {
     "name": "stdout",
     "output_type": "stream",
     "text": [
      "[1, 2, 3, 4, 5]\n",
      "type :  <class 'list'>\n"
     ]
    }
   ],
   "source": [
    "lnData = [1,2,3,4,5]\n",
    "print(lnData)\n",
    "print('type : ', type(lnData))"
   ]
  },
  {
   "cell_type": "code",
   "execution_count": 82,
   "id": "15806eb8",
   "metadata": {},
   "outputs": [
    {
     "name": "stdout",
     "output_type": "stream",
     "text": [
      "1\n",
      "4\n"
     ]
    }
   ],
   "source": [
    "print(lnData[0])\n",
    "print(lnData[3])"
   ]
  },
  {
   "cell_type": "code",
   "execution_count": 83,
   "id": "c2230360",
   "metadata": {},
   "outputs": [
    {
     "name": "stdout",
     "output_type": "stream",
     "text": [
      "[5, 2, 3, 4, 5]\n"
     ]
    }
   ],
   "source": [
    "lnData[0] = lnData[4]\n",
    "print(lnData)"
   ]
  },
  {
   "cell_type": "code",
   "execution_count": 84,
   "id": "9de7e814",
   "metadata": {},
   "outputs": [
    {
     "name": "stdout",
     "output_type": "stream",
     "text": [
      "[3, 4]\n"
     ]
    }
   ],
   "source": [
    "print(lnData[2:4])"
   ]
  },
  {
   "cell_type": "code",
   "execution_count": 85,
   "id": "42c0c2ce",
   "metadata": {},
   "outputs": [
    {
     "data": {
      "text/plain": [
       "[1, 2, 3, 4, 5, 'a', 'b', 'c']"
      ]
     },
     "execution_count": 85,
     "metadata": {},
     "output_type": "execute_result"
    }
   ],
   "source": [
    "lnData = [1,2,3,4,5]\n",
    "lstrData=['a', 'b', 'c']\n",
    "lnData + lstrData"
   ]
  },
  {
   "cell_type": "code",
   "execution_count": 86,
   "id": "010aaa43",
   "metadata": {},
   "outputs": [
    {
     "data": {
      "text/plain": [
       "[1, 2, 3, 4, 5, 10]"
      ]
     },
     "execution_count": 86,
     "metadata": {},
     "output_type": "execute_result"
    }
   ],
   "source": [
    "lnData.append(10)\n",
    "lnData"
   ]
  },
  {
   "cell_type": "code",
   "execution_count": 87,
   "id": "c29b67ab",
   "metadata": {},
   "outputs": [
    {
     "data": {
      "text/plain": [
       "['python', 1, 2, 3, 4, 5, 10]"
      ]
     },
     "execution_count": 87,
     "metadata": {},
     "output_type": "execute_result"
    }
   ],
   "source": [
    "lnData.insert(0, 'python')\n",
    "lnData"
   ]
  },
  {
   "cell_type": "code",
   "execution_count": 88,
   "id": "5b39380f",
   "metadata": {},
   "outputs": [
    {
     "data": {
      "text/plain": [
       "[1, 2, 3, 4, 5, 10]"
      ]
     },
     "execution_count": 88,
     "metadata": {},
     "output_type": "execute_result"
    }
   ],
   "source": [
    "lnData.remove('python')\n",
    "lnData"
   ]
  },
  {
   "cell_type": "code",
   "execution_count": 89,
   "id": "abb192ae",
   "metadata": {},
   "outputs": [
    {
     "data": {
      "text/plain": [
       "[1, 2, 3, 4, 5]"
      ]
     },
     "execution_count": 89,
     "metadata": {},
     "output_type": "execute_result"
    }
   ],
   "source": [
    "del lnData[5]\n",
    "lnData"
   ]
  },
  {
   "cell_type": "code",
   "execution_count": 90,
   "id": "b838c7f5",
   "metadata": {},
   "outputs": [
    {
     "data": {
      "text/plain": [
       "[1, 2, 3, 4, 5]"
      ]
     },
     "execution_count": 90,
     "metadata": {},
     "output_type": "execute_result"
    }
   ],
   "source": [
    "lnData"
   ]
  },
  {
   "cell_type": "code",
   "execution_count": 91,
   "id": "535c9203",
   "metadata": {},
   "outputs": [
    {
     "data": {
      "text/plain": [
       "[2, 3, 4, 5]"
      ]
     },
     "execution_count": 91,
     "metadata": {},
     "output_type": "execute_result"
    }
   ],
   "source": [
    "lnData.pop(0)\n",
    "lnData"
   ]
  },
  {
   "cell_type": "code",
   "execution_count": 92,
   "id": "76c0b648",
   "metadata": {},
   "outputs": [
    {
     "data": {
      "text/plain": [
       "[2, 3, 4]"
      ]
     },
     "execution_count": 92,
     "metadata": {},
     "output_type": "execute_result"
    }
   ],
   "source": [
    "lnData.pop()\n",
    "lnData"
   ]
  },
  {
   "cell_type": "code",
   "execution_count": 93,
   "id": "77989ffe",
   "metadata": {},
   "outputs": [
    {
     "data": {
      "text/plain": [
       "[]"
      ]
     },
     "execution_count": 93,
     "metadata": {},
     "output_type": "execute_result"
    }
   ],
   "source": [
    "lnData.clear()\n",
    "lnData"
   ]
  },
  {
   "cell_type": "code",
   "execution_count": 94,
   "id": "3b223d14",
   "metadata": {},
   "outputs": [
    {
     "name": "stdout",
     "output_type": "stream",
     "text": [
      "('사과', '딸기', '바나나', '토마토', '키위')\n",
      "<class 'tuple'>\n"
     ]
    }
   ],
   "source": [
    "tVal = (\"사과\", \"딸기\", \"바나나\", \"토마토\", \"키위\")\n",
    "print(tVal)\n",
    "print(type(tVal))"
   ]
  },
  {
   "cell_type": "code",
   "execution_count": 95,
   "id": "0f3e3fec",
   "metadata": {},
   "outputs": [
    {
     "ename": "TypeError",
     "evalue": "'tuple' object does not support item assignment",
     "output_type": "error",
     "traceback": [
      "\u001b[1;31m---------------------------------------------------------------------------\u001b[0m",
      "\u001b[1;31mTypeError\u001b[0m                                 Traceback (most recent call last)",
      "\u001b[1;32m<ipython-input-95-e77a009ef5ed>\u001b[0m in \u001b[0;36m<module>\u001b[1;34m\u001b[0m\n\u001b[1;32m----> 1\u001b[1;33m \u001b[0mtVal\u001b[0m\u001b[1;33m[\u001b[0m\u001b[1;36m0\u001b[0m\u001b[1;33m]\u001b[0m \u001b[1;33m=\u001b[0m \u001b[1;34m\"포도\"\u001b[0m\u001b[1;33m\u001b[0m\u001b[1;33m\u001b[0m\u001b[0m\n\u001b[0m",
      "\u001b[1;31mTypeError\u001b[0m: 'tuple' object does not support item assignment"
     ]
    }
   ],
   "source": [
    "tVal[0] = \"포도\""
   ]
  },
  {
   "cell_type": "code",
   "execution_count": 96,
   "id": "ad44440b",
   "metadata": {},
   "outputs": [
    {
     "data": {
      "text/plain": [
       "3"
      ]
     },
     "execution_count": 96,
     "metadata": {},
     "output_type": "execute_result"
    }
   ],
   "source": [
    "tData = ( 1, 2, 3, 1, 2, 3, 4, 5, 1, 2, 7)\n",
    "tData.count(1)"
   ]
  },
  {
   "cell_type": "code",
   "execution_count": 97,
   "id": "69c7e0f0",
   "metadata": {},
   "outputs": [
    {
     "data": {
      "text/plain": [
       "5"
      ]
     },
     "execution_count": 97,
     "metadata": {},
     "output_type": "execute_result"
    }
   ],
   "source": [
    "len(tVal)"
   ]
  },
  {
   "cell_type": "code",
   "execution_count": 98,
   "id": "8b6f0988",
   "metadata": {},
   "outputs": [
    {
     "data": {
      "text/plain": [
       "11"
      ]
     },
     "execution_count": 98,
     "metadata": {},
     "output_type": "execute_result"
    }
   ],
   "source": [
    "len(tData)"
   ]
  },
  {
   "cell_type": "code",
   "execution_count": 99,
   "id": "616e5961",
   "metadata": {},
   "outputs": [
    {
     "name": "stdout",
     "output_type": "stream",
     "text": [
      "(3, 1, 2)\n"
     ]
    }
   ],
   "source": [
    "print(tData[2:5])"
   ]
  },
  {
   "cell_type": "code",
   "execution_count": 100,
   "id": "bcc96841",
   "metadata": {},
   "outputs": [
    {
     "name": "stdout",
     "output_type": "stream",
     "text": [
      "('사과', '딸기', '바나나', '토마토', '키위', 1, 2, 3, 1, 2, 3, 4, 5, 1, 2, 7)\n"
     ]
    }
   ],
   "source": [
    "tTuple = tVal+ tData\n",
    "print(tTuple)"
   ]
  },
  {
   "cell_type": "code",
   "execution_count": 101,
   "id": "ea873e52",
   "metadata": {},
   "outputs": [
    {
     "data": {
      "text/plain": [
       "(1, 2, 3, 1, 2, 3, 4, 5, 1, 2, 7, 1, 2, 3, 1, 2, 3, 4, 5, 1, 2, 7)"
      ]
     },
     "execution_count": 101,
     "metadata": {},
     "output_type": "execute_result"
    }
   ],
   "source": [
    "tData * 2"
   ]
  },
  {
   "cell_type": "code",
   "execution_count": 102,
   "id": "6b81deff",
   "metadata": {},
   "outputs": [
    {
     "data": {
      "text/plain": [
       "(1, 2, 3, 1, 2, 3, 4, 5, 1, 2, 7)"
      ]
     },
     "execution_count": 102,
     "metadata": {},
     "output_type": "execute_result"
    }
   ],
   "source": [
    "tData"
   ]
  },
  {
   "cell_type": "code",
   "execution_count": 103,
   "id": "5e5f2969",
   "metadata": {},
   "outputs": [
    {
     "name": "stdout",
     "output_type": "stream",
     "text": [
      "(1, 2, 3, 1, 2, 3, 4, 5, 1, 2, 7, 1, 2, 3, 1, 2, 3, 4, 5, 1, 2, 7)\n"
     ]
    }
   ],
   "source": [
    "tData2 = tData * 2\n",
    "print(tData2)"
   ]
  },
  {
   "cell_type": "code",
   "execution_count": 104,
   "id": "5cebe2f8",
   "metadata": {},
   "outputs": [
    {
     "name": "stdout",
     "output_type": "stream",
     "text": [
      "tVal memory =  0x24c765748b0\n",
      "tVal memory =  0x24c7673c340\n",
      "('사과', '딸기', '바나나', '토마토', '키위', '사과', '딸기', '바나나', '토마토', '키위')\n"
     ]
    }
   ],
   "source": [
    "print(\"tVal memory = \", hex(id(tVal)))\n",
    "tVal = tVal * 2\n",
    "print(\"tVal memory = \", hex(id(tVal)))\n",
    "print(tVal)"
   ]
  },
  {
   "cell_type": "code",
   "execution_count": 105,
   "id": "8e169f41",
   "metadata": {},
   "outputs": [
    {
     "name": "stdout",
     "output_type": "stream",
     "text": [
      "tVal memory =  0x24c7673c340\n",
      "tVal memory =  0x24c7671d2b0\n",
      "('사과', '딸기', '바나나', '토마토', '키위', '사과', '딸기', '바나나', '토마토', '키위', '사과', '딸기', '바나나', '토마토', '키위', '사과', '딸기', '바나나', '토마토', '키위')\n"
     ]
    }
   ],
   "source": [
    "print(\"tVal memory = \", hex(id(tVal)))\n",
    "tVal = tVal + tVal\n",
    "print(\"tVal memory = \", hex(id(tVal)))\n",
    "print(tVal)"
   ]
  },
  {
   "cell_type": "code",
   "execution_count": 106,
   "id": "4caea547",
   "metadata": {},
   "outputs": [
    {
     "name": "stdout",
     "output_type": "stream",
     "text": [
      "{1, 2, 3, 4, 5}\n",
      "<class 'set'>\n"
     ]
    }
   ],
   "source": [
    "sVal = {1, 2, 3, 4, 5}\n",
    "print(sVal)\n",
    "print(type(sVal))"
   ]
  },
  {
   "cell_type": "code",
   "execution_count": 107,
   "id": "de8aafc9",
   "metadata": {},
   "outputs": [
    {
     "ename": "TypeError",
     "evalue": "'set' object is not subscriptable",
     "output_type": "error",
     "traceback": [
      "\u001b[1;31m---------------------------------------------------------------------------\u001b[0m",
      "\u001b[1;31mTypeError\u001b[0m                                 Traceback (most recent call last)",
      "\u001b[1;32m<ipython-input-107-5e16076670ae>\u001b[0m in \u001b[0;36m<module>\u001b[1;34m\u001b[0m\n\u001b[1;32m----> 1\u001b[1;33m \u001b[0msVal\u001b[0m\u001b[1;33m[\u001b[0m\u001b[1;36m1\u001b[0m\u001b[1;33m:\u001b[0m\u001b[1;36m2\u001b[0m\u001b[1;33m]\u001b[0m\u001b[1;33m\u001b[0m\u001b[1;33m\u001b[0m\u001b[0m\n\u001b[0m",
      "\u001b[1;31mTypeError\u001b[0m: 'set' object is not subscriptable"
     ]
    }
   ],
   "source": [
    "sVal[1:2]"
   ]
  },
  {
   "cell_type": "code",
   "execution_count": 108,
   "id": "c89161d0",
   "metadata": {},
   "outputs": [
    {
     "name": "stdout",
     "output_type": "stream",
     "text": [
      "{1, 2, 3, 4, 5, 100}\n"
     ]
    }
   ],
   "source": [
    "sVal.add(100)\n",
    "print(sVal)"
   ]
  },
  {
   "cell_type": "code",
   "execution_count": 109,
   "id": "dc7fbaa6",
   "metadata": {},
   "outputs": [
    {
     "name": "stdout",
     "output_type": "stream",
     "text": [
      "{1, 2, 3, 4, 5, 100, 200, 300}\n"
     ]
    }
   ],
   "source": [
    "sVal.update([200, 300])\n",
    "print(sVal)"
   ]
  },
  {
   "cell_type": "code",
   "execution_count": 110,
   "id": "3a4d3e11",
   "metadata": {},
   "outputs": [
    {
     "name": "stdout",
     "output_type": "stream",
     "text": [
      "{1, 2, 3, 4, 5, 100, 300}\n"
     ]
    }
   ],
   "source": [
    "sVal.remove(200)\n",
    "print(sVal)"
   ]
  },
  {
   "cell_type": "code",
   "execution_count": 111,
   "id": "c9cdc966",
   "metadata": {},
   "outputs": [
    {
     "name": "stdout",
     "output_type": "stream",
     "text": [
      "set()\n"
     ]
    }
   ],
   "source": [
    "sVal.clear()\n",
    "print(sVal)"
   ]
  },
  {
   "cell_type": "code",
   "execution_count": 112,
   "id": "2d6938d2",
   "metadata": {},
   "outputs": [
    {
     "name": "stdout",
     "output_type": "stream",
     "text": [
      "{100, 200, 300, 400, 500}\n",
      "{100, 'c', 'a', 300, 'b'}\n"
     ]
    }
   ],
   "source": [
    "sVal = {100, 200, 300, 400, 500}\n",
    "sData = {\"a\", \"b\", \"c\", \"c\", 100, 300}\n",
    "print(sVal)\n",
    "print(sData)"
   ]
  },
  {
   "cell_type": "code",
   "execution_count": 113,
   "id": "0fb99cf7",
   "metadata": {},
   "outputs": [
    {
     "data": {
      "text/plain": [
       "{100, 300}"
      ]
     },
     "execution_count": 113,
     "metadata": {},
     "output_type": "execute_result"
    }
   ],
   "source": [
    "sVal.intersection(sData)"
   ]
  },
  {
   "cell_type": "code",
   "execution_count": 114,
   "id": "9257beda",
   "metadata": {},
   "outputs": [
    {
     "data": {
      "text/plain": [
       "{200, 400, 500}"
      ]
     },
     "execution_count": 114,
     "metadata": {},
     "output_type": "execute_result"
    }
   ],
   "source": [
    "sVal.difference(sData)"
   ]
  },
  {
   "cell_type": "code",
   "execution_count": 115,
   "id": "7b8be1d9",
   "metadata": {},
   "outputs": [
    {
     "data": {
      "text/plain": [
       "{100, 200, 300, 400, 500, 'a', 'b', 'c'}"
      ]
     },
     "execution_count": 115,
     "metadata": {},
     "output_type": "execute_result"
    }
   ],
   "source": [
    "sVal.union(sData)"
   ]
  },
  {
   "cell_type": "code",
   "execution_count": 116,
   "id": "5eb822ff",
   "metadata": {},
   "outputs": [
    {
     "ename": "TypeError",
     "evalue": "unsupported operand type(s) for +: 'set' and 'set'",
     "output_type": "error",
     "traceback": [
      "\u001b[1;31m---------------------------------------------------------------------------\u001b[0m",
      "\u001b[1;31mTypeError\u001b[0m                                 Traceback (most recent call last)",
      "\u001b[1;32m<ipython-input-116-11b8b6a5db93>\u001b[0m in \u001b[0;36m<module>\u001b[1;34m\u001b[0m\n\u001b[1;32m----> 1\u001b[1;33m \u001b[0msVal\u001b[0m \u001b[1;33m+\u001b[0m \u001b[0msData\u001b[0m\u001b[1;33m\u001b[0m\u001b[1;33m\u001b[0m\u001b[0m\n\u001b[0m",
      "\u001b[1;31mTypeError\u001b[0m: unsupported operand type(s) for +: 'set' and 'set'"
     ]
    }
   ],
   "source": [
    "sVal + sData"
   ]
  },
  {
   "cell_type": "code",
   "execution_count": 117,
   "id": "5cc698e7",
   "metadata": {},
   "outputs": [
    {
     "data": {
      "text/plain": [
       "{200, 400, 500, 'a', 'b', 'c'}"
      ]
     },
     "execution_count": 117,
     "metadata": {},
     "output_type": "execute_result"
    }
   ],
   "source": [
    "sVal.symmetric_difference(sData)"
   ]
  },
  {
   "cell_type": "code",
   "execution_count": 124,
   "id": "3e63eb24",
   "metadata": {},
   "outputs": [
    {
     "name": "stdout",
     "output_type": "stream",
     "text": [
      "{'name': '이컴공', 'email': 'computer@hoseo.edu', 'address': '충남 아산시'}\n",
      "<class 'dict'>\n"
     ]
    }
   ],
   "source": [
    "dVal = {\n",
    "    'name' : '이컴공',\n",
    "    'email' : 'computer@hoseo.edu',\n",
    "    'address' : '충남 아산시'\n",
    "}\n",
    "print(dVal)\n",
    "print(type(dVal))"
   ]
  },
  {
   "cell_type": "code",
   "execution_count": 125,
   "id": "40254c6f",
   "metadata": {},
   "outputs": [],
   "source": [
    "dData = {\n",
    "    \"사과\" : 300, \n",
    "    \"포도\" : 200, \n",
    "    \"배\" : 500,\n",
    "    \"키위\" : 100\n",
    "}"
   ]
  },
  {
   "cell_type": "code",
   "execution_count": 126,
   "id": "99ff315b",
   "metadata": {},
   "outputs": [
    {
     "name": "stdout",
     "output_type": "stream",
     "text": [
      "500\n"
     ]
    }
   ],
   "source": [
    "print(dData[\"배\"])"
   ]
  },
  {
   "cell_type": "code",
   "execution_count": 127,
   "id": "2866df96",
   "metadata": {},
   "outputs": [
    {
     "data": {
      "text/plain": [
       "500"
      ]
     },
     "execution_count": 127,
     "metadata": {},
     "output_type": "execute_result"
    }
   ],
   "source": [
    "dData.get(\"배\")"
   ]
  },
  {
   "cell_type": "code",
   "execution_count": 128,
   "id": "b78af22a",
   "metadata": {},
   "outputs": [
    {
     "name": "stdout",
     "output_type": "stream",
     "text": [
      "{'사과': 300, '포도': 200, '배': 500, '키위': 100, '딸기': 100}\n"
     ]
    }
   ],
   "source": [
    "dData[\"딸기\"] = 100\n",
    "print(dData)"
   ]
  },
  {
   "cell_type": "code",
   "execution_count": 129,
   "id": "fad3e90c",
   "metadata": {},
   "outputs": [
    {
     "data": {
      "text/plain": [
       "300"
      ]
     },
     "execution_count": 129,
     "metadata": {},
     "output_type": "execute_result"
    }
   ],
   "source": [
    "dData.pop(\"사과\")"
   ]
  },
  {
   "cell_type": "code",
   "execution_count": 130,
   "id": "45574f06",
   "metadata": {},
   "outputs": [
    {
     "data": {
      "text/plain": [
       "{'포도': 200, '배': 500, '키위': 100, '딸기': 100}"
      ]
     },
     "execution_count": 130,
     "metadata": {},
     "output_type": "execute_result"
    }
   ],
   "source": [
    "dData"
   ]
  },
  {
   "cell_type": "code",
   "execution_count": 131,
   "id": "da25dc24",
   "metadata": {},
   "outputs": [
    {
     "ename": "TypeError",
     "evalue": "pop expected at least 1 argument, got 0",
     "output_type": "error",
     "traceback": [
      "\u001b[1;31m---------------------------------------------------------------------------\u001b[0m",
      "\u001b[1;31mTypeError\u001b[0m                                 Traceback (most recent call last)",
      "\u001b[1;32m<ipython-input-131-34b2f8eac69c>\u001b[0m in \u001b[0;36m<module>\u001b[1;34m\u001b[0m\n\u001b[1;32m----> 1\u001b[1;33m \u001b[0mdData\u001b[0m\u001b[1;33m.\u001b[0m\u001b[0mpop\u001b[0m\u001b[1;33m(\u001b[0m\u001b[1;33m)\u001b[0m\u001b[1;33m\u001b[0m\u001b[1;33m\u001b[0m\u001b[0m\n\u001b[0m",
      "\u001b[1;31mTypeError\u001b[0m: pop expected at least 1 argument, got 0"
     ]
    }
   ],
   "source": [
    "dData.pop()"
   ]
  },
  {
   "cell_type": "code",
   "execution_count": 132,
   "id": "9f2a23e7",
   "metadata": {},
   "outputs": [
    {
     "data": {
      "text/plain": [
       "['딸기', '배', '키위', '포도']"
      ]
     },
     "execution_count": 132,
     "metadata": {},
     "output_type": "execute_result"
    }
   ],
   "source": [
    "sorted(dData)"
   ]
  },
  {
   "cell_type": "code",
   "execution_count": 133,
   "id": "0fe52a22",
   "metadata": {},
   "outputs": [
    {
     "data": {
      "text/plain": [
       "[100, 100, 200, 500]"
      ]
     },
     "execution_count": 133,
     "metadata": {},
     "output_type": "execute_result"
    }
   ],
   "source": [
    "sorted(dData.values())"
   ]
  },
  {
   "cell_type": "code",
   "execution_count": 134,
   "id": "b369f568",
   "metadata": {},
   "outputs": [
    {
     "data": {
      "text/plain": [
       "{'포도': 200, '배': 500, '키위': 100, '딸기': 100}"
      ]
     },
     "execution_count": 134,
     "metadata": {},
     "output_type": "execute_result"
    }
   ],
   "source": [
    "dData"
   ]
  },
  {
   "cell_type": "code",
   "execution_count": 135,
   "id": "54d47928",
   "metadata": {},
   "outputs": [],
   "source": [
    "def f(x):\n",
    "    return x + 10"
   ]
  },
  {
   "cell_type": "code",
   "execution_count": 136,
   "id": "86043a6e",
   "metadata": {},
   "outputs": [
    {
     "data": {
      "text/plain": [
       "12"
      ]
     },
     "execution_count": 136,
     "metadata": {},
     "output_type": "execute_result"
    }
   ],
   "source": [
    "f(2)"
   ]
  },
  {
   "cell_type": "code",
   "execution_count": null,
   "id": "588c0231",
   "metadata": {},
   "outputs": [],
   "source": []
  }
 ],
 "metadata": {
  "kernelspec": {
   "display_name": "Python 3",
   "language": "python",
   "name": "python3"
  },
  "language_info": {
   "codemirror_mode": {
    "name": "ipython",
    "version": 3
   },
   "file_extension": ".py",
   "mimetype": "text/x-python",
   "name": "python",
   "nbconvert_exporter": "python",
   "pygments_lexer": "ipython3",
   "version": "3.8.8"
  }
 },
 "nbformat": 4,
 "nbformat_minor": 5
}
